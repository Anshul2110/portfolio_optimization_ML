{
 "cells": [
  {
   "cell_type": "code",
   "execution_count": 1,
   "id": "1bb7ecae",
   "metadata": {},
   "outputs": [],
   "source": [
    "import yfinance as yf\n",
    "import pandas as pd\n",
    "import os\n",
    "from datetime import datetime"
   ]
  },
  {
   "cell_type": "code",
   "execution_count": 5,
   "id": "d0f31036",
   "metadata": {},
   "outputs": [],
   "source": [
    "#Creating folders if not exist\n",
    "os.makedirs(r\"C:\\Users\\ansul\\OneDrive\\Desktop\\data science project\\portfolio_optimization_ML\\data\\raw\", exist_ok=True)"
   ]
  },
  {
   "cell_type": "code",
   "execution_count": 6,
   "id": "a6917460",
   "metadata": {},
   "outputs": [],
   "source": [
    "# Defining tickers & date range\n",
    "tickers = [\"AAPL\", \"MSFT\", \"AMZN\", \"TSLA\", \"JPM\"]  # You can add more\n",
    "start_date = \"2018-01-01\"\n",
    "end_date = datetime.today().strftime(\"%Y-%m-%d\")"
   ]
  },
  {
   "cell_type": "code",
   "execution_count": 8,
   "id": "dd4ec6b3",
   "metadata": {},
   "outputs": [
    {
     "name": "stderr",
     "output_type": "stream",
     "text": [
      "[*********************100%***********************]  5 of 5 completed\n"
     ]
    },
    {
     "name": "stdout",
     "output_type": "stream",
     "text": [
      "Saved AAPL.csv with 1928 rows\n",
      "Saved MSFT.csv with 1928 rows\n",
      "Saved AMZN.csv with 1928 rows\n",
      "Saved TSLA.csv with 1928 rows\n",
      "Saved JPM.csv with 1928 rows\n"
     ]
    }
   ],
   "source": [
    "\n",
    "#Downloading data\n",
    "data = yf.download(tickers, start=start_date, end=end_date, group_by=\"ticker\", auto_adjust=True)\n",
    "\n",
    "#Saving each ticker separately\n",
    "for ticker in tickers:\n",
    "    df = data[ticker].copy()\n",
    "    df.reset_index(inplace=True)\n",
    "    df.to_csv(rf\"C:\\Users\\ansul\\OneDrive\\Desktop\\data science project\\portfolio_optimization_ML\\data\\raw\\{ticker}.csv\", index=False)\n",
    "    print(f\"Saved {ticker}.csv with {len(df)} rows\")"
   ]
  },
  {
   "cell_type": "code",
   "execution_count": 9,
   "id": "e37811ef",
   "metadata": {},
   "outputs": [],
   "source": [
    "## Merging closed price of all tickers into a single dataframe\n",
    "close_prices = pd.DataFrame({ticker: data[ticker][\"Close\"] for ticker in tickers})\n",
    "close_prices.index.name = \"Date\"\n",
    "close_prices.reset_index(inplace=True)"
   ]
  },
  {
   "cell_type": "code",
   "execution_count": 10,
   "id": "cd9e022d",
   "metadata": {},
   "outputs": [],
   "source": [
    "# Save merged dataset\n",
    "close_prices.to_csv(rf\"C:\\Users\\ansul\\OneDrive\\Desktop\\data science project\\portfolio_optimization_ML\\data\\raw\\merged_close.csv\", index=False)"
   ]
  }
 ],
 "metadata": {
  "kernelspec": {
   "display_name": "Python 3",
   "language": "python",
   "name": "python3"
  },
  "language_info": {
   "codemirror_mode": {
    "name": "ipython",
    "version": 3
   },
   "file_extension": ".py",
   "mimetype": "text/x-python",
   "name": "python",
   "nbconvert_exporter": "python",
   "pygments_lexer": "ipython3",
   "version": "3.12.9"
  }
 },
 "nbformat": 4,
 "nbformat_minor": 5
}
